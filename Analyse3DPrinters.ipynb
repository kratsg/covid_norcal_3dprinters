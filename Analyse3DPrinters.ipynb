{
 "cells": [
  {
   "cell_type": "code",
   "execution_count": 219,
   "metadata": {},
   "outputs": [
    {
     "name": "stdout",
     "output_type": "stream",
     "text": [
      "Using matplotlib backend: MacOSX\n",
      "Populating the interactive namespace from numpy and matplotlib\n"
     ]
    }
   ],
   "source": [
    "%pylab\n",
    "from functools import reduce\n",
    "import pandas"
   ]
  },
  {
   "cell_type": "code",
   "execution_count": 246,
   "metadata": {},
   "outputs": [],
   "source": [
    "formats = [('timestamp', 'U100'),\n",
    " ('name', 'U100'),\n",
    " ('city', 'U100'),\n",
    " ('country', 'U100'),\n",
    " ('have3DPrinter', 'U100'),\n",
    " ('haveSkills', 'U100'),\n",
    " ('comments', 'U100'),\n",
    " ('3DPrinterType', 'U100'),\n",
    " ('experience', 'U100'),\n",
    " ('contact', 'U100'),\n",
    " ('contact_other', 'U100')]"
   ]
  },
  {
   "cell_type": "code",
   "execution_count": 247,
   "metadata": {},
   "outputs": [],
   "source": [
    "data = np.genfromtxt(open('3dprinters.tsv', encoding='utf-8'), dtype=formats, delimiter=\"\\t\")[3:]"
   ]
  },
  {
   "cell_type": "code",
   "execution_count": 249,
   "metadata": {},
   "outputs": [],
   "source": [
    "country_mask = np.char.find(np.char.lower(data['country']), 'united states') >= 0"
   ]
  },
  {
   "cell_type": "code",
   "execution_count": 256,
   "metadata": {},
   "outputs": [],
   "source": [
    "norcal_cities = np.char.lower(['Alameda', 'Antioch', 'Berkeley', 'Brentwood', 'Chico', 'Citrus Heights', 'Clovis', 'Concord', 'Cupertino', 'Daly City', 'Davis', 'Elk Grove', 'Fairfield', 'Folsom', 'Fresno', 'Fremont', 'Hanford', 'Hayward', 'Livermore', 'Lodi', 'Madera', 'Manteca', 'Merced', 'Milpitas', 'Modesto', 'Mountain View', 'Napa', 'Novato', 'Oakland', 'Palo Alto', 'Petaluma', 'Pittsburg', 'Pleasanton', 'Porterville', 'Rancho Cordova', 'Redding', 'Redwood City', 'Richmond', 'Rocklin', 'Roseville', 'Sacramento', 'Salinas', 'San Francisco', 'San Jose', 'San Leandro', 'San Mateo', 'San Rafael', 'San Ramon', 'Santa Clara', 'Santa Cruz', 'Santa Rosa', 'South San Francisco', 'Stockton', 'Sunnyvale', 'Tracy', 'Tulare', 'Turlock', 'Union City', 'Vacaville', 'Vallejo', 'Visalia', 'Walnut Creek', 'Watsonville', 'Woodland', 'Yuba City'])\n",
    "city_mask = reduce(lambda a,b: a|b, (np.char.find(np.char.lower(data['city']), city) >= 0 for city in norcal_cities))"
   ]
  },
  {
   "cell_type": "code",
   "execution_count": 257,
   "metadata": {},
   "outputs": [],
   "source": [
    "filtered_data = data[country_mask&city_mask]"
   ]
  },
  {
   "cell_type": "code",
   "execution_count": 258,
   "metadata": {},
   "outputs": [],
   "source": [
    "pd = pandas.DataFrame(filtered_data).drop(['timestamp'], axis=1).sort_values(by=['city'])\n",
    "pd.to_csv(\"out.csv\")"
   ]
  }
 ],
 "metadata": {
  "kernelspec": {
   "display_name": "Python 3",
   "language": "python",
   "name": "python3"
  },
  "language_info": {
   "codemirror_mode": {
    "name": "ipython",
    "version": 3
   },
   "file_extension": ".py",
   "mimetype": "text/x-python",
   "name": "python",
   "nbconvert_exporter": "python",
   "pygments_lexer": "ipython3",
   "version": "3.7.3"
  }
 },
 "nbformat": 4,
 "nbformat_minor": 2
}
